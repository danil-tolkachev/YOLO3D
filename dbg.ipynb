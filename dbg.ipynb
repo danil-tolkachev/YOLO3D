{
 "cells": [
  {
   "cell_type": "code",
   "execution_count": 1,
   "metadata": {},
   "outputs": [],
   "source": [
    "from ipywidgets import interactive\n",
    "from ipywidgets.widgets import FloatSlider\n",
    "from dbg import f\n",
    "\n",
    "%matplotlib inline"
   ]
  },
  {
   "cell_type": "code",
   "execution_count": 2,
   "metadata": {},
   "outputs": [
    {
     "data": {
      "application/vnd.jupyter.widget-view+json": {
       "model_id": "e8c5f589304941d7b69dac666008841c",
       "version_major": 2,
       "version_minor": 0
      },
      "text/plain": [
       "interactive(children=(FloatSlider(value=2.0, description='width', max=10.0, min=0.1, step=0.05), FloatSlider(v…"
      ]
     },
     "execution_count": 2,
     "metadata": {},
     "output_type": "execute_result"
    }
   ],
   "source": [
    "interactive_plot = interactive(\n",
    "    f,\n",
    "    width=FloatSlider(value=2, min=0.1, max=10.0, step=0.05),\n",
    "    length=FloatSlider(value=5, min=0.1, max=10.0, step=0.05),\n",
    "    height=FloatSlider(value=1.5, min=0.1, max=10.0, step=0.05),\n",
    "    x=FloatSlider(value=0, min=-20, max=20.0, step=0.05),\n",
    "    y=FloatSlider(value=3, min=-20, max=20.0, step=0.05),\n",
    "    z=FloatSlider(value=10, min=0.1, max=30.0, step=0.05),\n",
    "    theta=FloatSlider(value=1, min=-180, max=179, step=0.1),\n",
    ")\n",
    "interactive_plot"
   ]
  }
 ],
 "metadata": {
  "kernelspec": {
   "display_name": "Python 3.8.10 64-bit",
   "language": "python",
   "name": "python3"
  },
  "language_info": {
   "codemirror_mode": {
    "name": "ipython",
    "version": 3
   },
   "file_extension": ".py",
   "mimetype": "text/x-python",
   "name": "python",
   "nbconvert_exporter": "python",
   "pygments_lexer": "ipython3",
   "version": "3.8.10"
  },
  "orig_nbformat": 4,
  "vscode": {
   "interpreter": {
    "hash": "767d51c1340bd893661ea55ea3124f6de3c7a262a8b4abca0554b478b1e2ff90"
   }
  }
 },
 "nbformat": 4,
 "nbformat_minor": 2
}
